{
 "metadata": {
  "name": "",
  "signature": "sha256:93e3024b83d8fa7418196674d2051ae23748e4d983d9ad1a05b82d010ce09604"
 },
 "nbformat": 3,
 "nbformat_minor": 0,
 "worksheets": [
  {
   "cells": [
    {
     "cell_type": "heading",
     "level": 1,
     "metadata": {},
     "source": [
      "Set sentence and word lists:"
     ]
    },
    {
     "cell_type": "code",
     "collapsed": false,
     "input": [
      "tweet = \"never give in, never give in, never, never, never - in nothing, great or small, large or petty - never give in except to convictions of honour and good sense. Never yield to force; never yield to the apparently overwhelming might of the enemy.\""
     ],
     "language": "python",
     "metadata": {},
     "outputs": [],
     "prompt_number": 4
    },
    {
     "cell_type": "code",
     "collapsed": false,
     "input": [
      "positive_words = ['never','good', 'nice', 'super', 'fun', 'delightful', 'great']\n",
      "negative_words = ['awful','lame','horrible','bad','give in']"
     ],
     "language": "python",
     "metadata": {},
     "outputs": [],
     "prompt_number": 14
    },
    {
     "cell_type": "code",
     "collapsed": false,
     "input": [
      "words= tweet.split(' ')\n",
      "print(words)"
     ],
     "language": "python",
     "metadata": {},
     "outputs": [
      {
       "output_type": "stream",
       "stream": "stdout",
       "text": [
        "['never', 'give', 'in,', 'never', 'give', 'in,', 'never,', 'never,', 'never', '-', 'in', 'nothing,', 'great', 'or', 'small,', 'large', 'or', 'petty', '-', 'never', 'give', 'in', 'except', 'to', 'convictions', 'of', 'honour', 'and', 'good', 'sense.', 'Never', 'yield', 'to', 'force;', 'never', 'yield', 'to', 'the', 'apparently', 'overwhelming', 'might', 'of', 'the', 'enemy.']\n"
       ]
      }
     ],
     "prompt_number": 15
    },
    {
     "cell_type": "code",
     "collapsed": false,
     "input": [
      "for word in words:\n",
      "    if word in positive_words:\n",
      "        print (word, 'is a positive word')"
     ],
     "language": "python",
     "metadata": {},
     "outputs": [
      {
       "output_type": "stream",
       "stream": "stdout",
       "text": [
        "never is a positive word\n",
        "never is a positive word\n",
        "never is a positive word\n",
        "great is a positive word\n",
        "never is a positive word\n",
        "good is a positive word\n",
        "never is a positive word\n"
       ]
      }
     ],
     "prompt_number": 17
    },
    {
     "cell_type": "code",
     "collapsed": false,
     "input": [],
     "language": "python",
     "metadata": {},
     "outputs": []
    }
   ],
   "metadata": {}
  }
 ]
}