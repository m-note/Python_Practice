{
 "metadata": {
  "name": "",
  "signature": "sha256:2be99d2ff3c4519cb6175820a9095c565c1c78e3155c4f80e917a98de46aae9c"
 },
 "nbformat": 3,
 "nbformat_minor": 0,
 "worksheets": [
  {
   "cells": [
    {
     "cell_type": "heading",
     "level": 3,
     "metadata": {},
     "source": [
      "Set sentence and word lists:"
     ]
    },
    {
     "cell_type": "code",
     "collapsed": false,
     "input": [
      "tweet = \"never give in, never give in, never, never, never - in nothing, great or small, large or petty - never give in except to convictions of honour and good sense. Never yield to force; never yield to the apparently overwhelming might of the enemy.\""
     ],
     "language": "python",
     "metadata": {},
     "outputs": [],
     "prompt_number": 2
    },
    {
     "cell_type": "code",
     "collapsed": false,
     "input": [
      "positive_words = ['never','good', 'nice', 'super', 'fun', 'delightful', 'great']\n",
      "negative_words = ['awful','lame','horrible','bad','give in']"
     ],
     "language": "python",
     "metadata": {},
     "outputs": [],
     "prompt_number": 3
    },
    {
     "cell_type": "code",
     "collapsed": false,
     "input": [
      "words= tweet.split(' ')\n",
      "print(words)"
     ],
     "language": "python",
     "metadata": {},
     "outputs": [
      {
       "output_type": "stream",
       "stream": "stdout",
       "text": [
        "['never', 'give', 'in,', 'never', 'give', 'in,', 'never,', 'never,', 'never', '-', 'in', 'nothing,', 'great', 'or', 'small,', 'large', 'or', 'petty', '-', 'never', 'give', 'in', 'except', 'to', 'convictions', 'of', 'honour', 'and', 'good', 'sense.', 'Never', 'yield', 'to', 'force;', 'never', 'yield', 'to', 'the', 'apparently', 'overwhelming', 'might', 'of', 'the', 'enemy.']\n"
       ]
      }
     ],
     "prompt_number": 4
    },
    {
     "cell_type": "code",
     "collapsed": false,
     "input": [
      "for word in words:\n",
      "    if word in positive_words:\n",
      "        print (word, 'is a positive word')"
     ],
     "language": "python",
     "metadata": {},
     "outputs": [
      {
       "output_type": "stream",
       "stream": "stdout",
       "text": [
        "never is a positive word\n",
        "never is a positive word\n",
        "never is a positive word\n",
        "great is a positive word\n",
        "never is a positive word\n",
        "good is a positive word\n",
        "never is a positive word\n"
       ]
      }
     ],
     "prompt_number": 5
    },
    {
     "cell_type": "code",
     "collapsed": false,
     "input": [
      "tweet.lower()"
     ],
     "language": "python",
     "metadata": {},
     "outputs": [
      {
       "metadata": {},
       "output_type": "pyout",
       "prompt_number": 6,
       "text": [
        "'never give in, never give in, never, never, never - in nothing, great or small, large or petty - never give in except to convictions of honour and good sense. never yield to force; never yield to the apparently overwhelming might of the enemy.'"
       ]
      }
     ],
     "prompt_number": 6
    },
    {
     "cell_type": "heading",
     "level": 3,
     "metadata": {},
     "source": [
      "Dealing with upper-case letters:"
     ]
    },
    {
     "cell_type": "code",
     "collapsed": false,
     "input": [
      "for word in words:\n",
      "    if word.lower() in positive_words:\n",
      "        print (word, 'is a positive word')"
     ],
     "language": "python",
     "metadata": {},
     "outputs": [
      {
       "output_type": "stream",
       "stream": "stdout",
       "text": [
        "never is a positive word\n",
        "never is a positive word\n",
        "never is a positive word\n",
        "great is a positive word\n",
        "never is a positive word\n",
        "good is a positive word\n",
        "Never is a positive word\n",
        "never is a positive word\n"
       ]
      }
     ],
     "prompt_number": 7
    },
    {
     "cell_type": "heading",
     "level": 3,
     "metadata": {},
     "source": [
      "Make it easy with modules:"
     ]
    },
    {
     "cell_type": "code",
     "collapsed": false,
     "input": [
      "from string import punctuation\n",
      "print(punctuation)"
     ],
     "language": "python",
     "metadata": {},
     "outputs": [
      {
       "output_type": "stream",
       "stream": "stdout",
       "text": [
        "!\"#$%&'()*+,-./:;<=>?@[\\]^_`{|}~\n"
       ]
      }
     ],
     "prompt_number": 12
    },
    {
     "cell_type": "code",
     "collapsed": false,
     "input": [
      "for p in list(punctuation):\n",
      "    #print(p)\n",
      "    tweet = tweet.lower().replace(p,'')\n",
      "print(tweet)"
     ],
     "language": "python",
     "metadata": {},
     "outputs": [
      {
       "output_type": "stream",
       "stream": "stdout",
       "text": [
        "never give in never give in never never never  in nothing great or small large or petty  never give in except to convictions of honour and good sense never yield to force never yield to the apparently overwhelming might of the enemy\n"
       ]
      }
     ],
     "prompt_number": 24
    },
    {
     "cell_type": "heading",
     "level": 3,
     "metadata": {},
     "source": [
      "Counting words:"
     ]
    },
    {
     "cell_type": "code",
     "collapsed": false,
     "input": [
      "positive_counter = 0\n",
      "word_processed = tweet.split(' ') #You need to split into words before you use it\n",
      "\n",
      "for word in word_processed:\n",
      "    if word in positive_words:\n",
      "        positive_counter = positive_counter+1\n",
      "\n",
      "print(positive_counter)\n",
      "print (round(positive_counter/len(word_processed), 3))"
     ],
     "language": "python",
     "metadata": {},
     "outputs": [
      {
       "output_type": "stream",
       "stream": "stdout",
       "text": [
        "10\n",
        "0.227\n"
       ]
      }
     ],
     "prompt_number": 32
    },
    {
     "cell_type": "code",
     "collapsed": false,
     "input": [],
     "language": "python",
     "metadata": {},
     "outputs": []
    }
   ],
   "metadata": {}
  }
 ]
}