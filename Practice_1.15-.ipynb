{
 "metadata": {
  "name": "",
  "signature": "sha256:ddd9ef2bf646a452732c11d23eb29a04ef6790eb976112851e244953bb4fd531"
 },
 "nbformat": 3,
 "nbformat_minor": 0,
 "worksheets": [
  {
   "cells": [
    {
     "cell_type": "code",
     "collapsed": false,
     "input": [],
     "language": "python",
     "metadata": {},
     "outputs": []
    }
   ],
   "metadata": {}
  }
 ]
}