{
 "metadata": {
  "name": "",
  "signature": "sha256:4bef1a5ddf5c618b20be21e3571b7be3ff30440ab0f441c9ec29a34ac4fffa4a"
 },
 "nbformat": 3,
 "nbformat_minor": 0,
 "worksheets": [
  {
   "cells": [
    {
     "cell_type": "markdown",
     "metadata": {},
     "source": [
      "The second text analysis practice. <br>\n",
      "This practice is taken from http://nealcaren.web.unc.edu/an-introduction-to-text-analysis-with-python-part-3/, but modified for Python3."
     ]
    },
    {
     "cell_type": "heading",
     "level": 3,
     "metadata": {},
     "source": [
      "Downloading files for practice:"
     ]
    },
    {
     "cell_type": "code",
     "collapsed": false,
     "input": [
      "import urllib.request\n",
      "import shutil #To save in a file"
     ],
     "language": "python",
     "metadata": {},
     "outputs": [],
     "prompt_number": 9
    },
    {
     "cell_type": "markdown",
     "metadata": {},
     "source": [
      "There is a change for Python3 in the codebox below. <br>\n",
      "Check <a href=\"http://stackoverflow.com/questions/7243750/download-file-from-web-in-python-3\" target=\"_blank\">this website</a> for further explanation."
     ]
    },
    {
     "cell_type": "code",
     "collapsed": false,
     "input": [
      "url='http://www.unc.edu/~ncaren/haphazard/negative.txt'\n",
      "file_name='Word_List/negative.txt'\n",
      "\n",
      "with urllib.request.urlopen(url) as response, open(file_name, 'wb') as out_file: #Save in a file (this is Python3 style)\n",
      "    shutil.copyfileobj(response, out_file)"
     ],
     "language": "python",
     "metadata": {},
     "outputs": [],
     "prompt_number": 10
    },
    {
     "cell_type": "markdown",
     "metadata": {},
     "source": [
      "Download remaining files:"
     ]
    },
    {
     "cell_type": "code",
     "collapsed": false,
     "input": [
      "files=['positive.txt','obama_tweets.txt']\n",
      "path='http://www.unc.edu/~ncaren/haphazard/'\n",
      "\n",
      "for file_name in files:\n",
      "    with urllib.request.urlopen(path+file_name) as response, open(\"Word_List/\"+file_name, 'wb') as out_file: #Save in a file\n",
      "                            # note that by coding [\"Word_List/\"+file_name], we can save file in specific directory\n",
      "        shutil.copyfileobj(response, out_file)"
     ],
     "language": "python",
     "metadata": {},
     "outputs": [],
     "prompt_number": 12
    },
    {
     "cell_type": "heading",
     "level": 3,
     "metadata": {},
     "source": [
      "Open Tweet file:"
     ]
    },
    {
     "cell_type": "markdown",
     "metadata": {},
     "source": [
      "To open the file with \"safer\" mode (as explained in <a href=\"http://n-n-y.blogspot.jp/2015/01/dive-into-python3-chapter-11-files.html\" target=\"_blank\">Dive into Python</a>), I utlized what is explained <a href=\"http://stackoverflow.com/questions/17569679/python-attributeerror-io-textiowrapper-object-has-no-attribute-split\" target=\"_blank\">here</a>."
     ]
    },
    {
     "cell_type": "code",
     "collapsed": false,
     "input": [
      "with open('Word_List/obama_tweets.txt', encoding='utf-8') as tweets:\n",
      "    tweets_list = [line.rstrip('\\n') for line in tweets]\n",
      "print(len(tweets_list))"
     ],
     "language": "python",
     "metadata": {},
     "outputs": [
      {
       "output_type": "stream",
       "stream": "stdout",
       "text": [
        "1381\n"
       ]
      }
     ],
     "prompt_number": 19
    },
    {
     "cell_type": "markdown",
     "metadata": {},
     "source": [
      "Let's see how it looks like:"
     ]
    },
    {
     "cell_type": "code",
     "collapsed": false,
     "input": [
      "for tweet in tweets_list[0:5]:\n",
      "    print(tweet)"
     ],
     "language": "python",
     "metadata": {},
     "outputs": [
      {
       "output_type": "stream",
       "stream": "stdout",
       "text": [
        "Obama has called the GOP budget social Darwinism. Nice try, but they believe in social creationism.\n",
        "In his teen years, Obama has been known to use marijuana and cocaine.\n",
        "IPA Congratulates President Barack Obama for Leadership Regarding JOBS Act: WASHINGTON, Apr 05, 2012 (BUSINESS W... http://t.co/8le3DC8E\n",
        "RT @Professor_Why: #WhatsRomneyHiding - his connection to supporters of Critical Race Theory.... Oh wait, that was Obama, not Romney...\n",
        "RT @wardollarshome: Obama has approved more targeted assassinations than any modern US prez; READ & RT: http://t.co/bfC4gbBW\n"
       ]
      }
     ],
     "prompt_number": 20
    },
    {
     "cell_type": "heading",
     "level": 3,
     "metadata": {},
     "source": [
      "Load positive and negative sentiment lists:"
     ]
    },
    {
     "cell_type": "code",
     "collapsed": false,
     "input": [
      "with open('Word_List/positive.txt', encoding='utf-8') as w_lists:\n",
      "    positive_words = [line.rstrip('\\n') for line in w_lists]\n",
      "with open('Word_List/negative.txt', encoding='utf-8') as w_lists:\n",
      "    negative_words = [line.rstrip('\\n') for line in w_lists]"
     ],
     "language": "python",
     "metadata": {},
     "outputs": [],
     "prompt_number": 21
    },
    {
     "cell_type": "code",
     "collapsed": false,
     "input": [
      "print (\"Sample of posive words:\", positive_words[:5])\n",
      "print (\"Sample of negative words:\", negative_words[:5])"
     ],
     "language": "python",
     "metadata": {},
     "outputs": [
      {
       "output_type": "stream",
       "stream": "stdout",
       "text": [
        "Sample of posive words: ['abidance', 'abidance', 'abilities', 'ability', 'able']\n",
        "Sample of negative words: ['abandoned', 'abandonment', 'aberration', 'aberration', 'abhorred']\n"
       ]
      }
     ],
     "prompt_number": 22
    },
    {
     "cell_type": "heading",
     "level": 3,
     "metadata": {},
     "source": [
      "Preprocessing:"
     ]
    },
    {
     "cell_type": "code",
     "collapsed": false,
     "input": [
      "from string import punctuation"
     ],
     "language": "python",
     "metadata": {},
     "outputs": [],
     "prompt_number": 23
    },
    {
     "cell_type": "code",
     "collapsed": false,
     "input": [
      "positve_score = 0\n",
      "for tweet in tweets_list: # we process tweet in the list one by one\n",
      "    positive_counter = 0\n",
      "    tweet_processed = tweet.lower()\n",
      "    \n",
      "    for p in list(punctuation): # remove unwanted characters\n",
      "        tweet_processed=tweet_processed.replace(p,'')\n",
      "    words = tweet_processed.split(' ')\n",
      "        \n",
      "    for word in words:\n",
      "        if word in positive_words:\n",
      "            positive_counter = positive_counter+1\n",
      "        positve_score = positve_score + positive_counter/len(words)\n",
      "\n",
      "print (\"Average positve score is\", positve_score/len(tweets_list))"
     ],
     "language": "python",
     "metadata": {},
     "outputs": [
      {
       "output_type": "stream",
       "stream": "stdout",
       "text": [
        "Average positve score is 0.2886770948170206\n"
       ]
      }
     ],
     "prompt_number": 70
    },
    {
     "cell_type": "markdown",
     "metadata": {},
     "source": [
      "Let's see how it worked in detail:"
     ]
    },
    {
     "cell_type": "code",
     "collapsed": false,
     "input": [
      "print(tweet_processed) # just removed unwanted characters, still string.\n",
      "words=tweet_processed.split(' ') # split the sentence if you find space(\" \")\n",
      "print(words)"
     ],
     "language": "python",
     "metadata": {},
     "outputs": [
      {
       "output_type": "stream",
       "stream": "stdout",
       "text": [
        "rt socalconservtiv his failed budget proposal that was voted down 4140 in congress oh wait thats professor obama whatsromneyhiding tcot\n",
        "['rt', 'socalconservtiv', 'his', 'failed', 'budget', 'proposal', 'that', 'was', 'voted', 'down', '4140', 'in', 'congress', 'oh', 'wait', 'thats', 'professor', 'obama', 'whatsromneyhiding', 'tcot']\n"
       ]
      }
     ],
     "prompt_number": 37
    },
    {
     "cell_type": "markdown",
     "metadata": {},
     "source": [
      "Another example:"
     ]
    },
    {
     "cell_type": "code",
     "collapsed": false,
     "input": [
      "example1 = [\"There is a 'small' crack in the roof and water is dripping from it!!\", \"Here, I want to write another sentence\", \"I want to add one more\"]\n",
      "print(\"The first sentence in the list is:\", example1[0])\n",
      "\n",
      "sentence = example1[0]\n",
      "\n",
      "for p in list(punctuation):\n",
      "        sentence = sentence.lower().replace(p, '')\n",
      "s_words = sentence.split(' ')\n",
      "\n",
      "print(s_words)"
     ],
     "language": "python",
     "metadata": {},
     "outputs": [
      {
       "output_type": "stream",
       "stream": "stdout",
       "text": [
        "The first sentence in the list is: There is a 'small' crack in the roof and water is dripping from it!!\n",
        "['there', 'is', 'a', 'small', 'crack', 'in', 'the', 'roof', 'and', 'water', 'is', 'dripping', 'from', 'it']\n"
       ]
      }
     ],
     "prompt_number": 69
    },
    {
     "cell_type": "heading",
     "level": 3,
     "metadata": {},
     "source": [
      "Run the same code with a little modification:"
     ]
    },
    {
     "cell_type": "code",
     "collapsed": false,
     "input": [
      "positive_counts=[]\n",
      "for tweet in tweets_list: # we process tweet in the list one by one\n",
      "    positive_counter = 0\n",
      "    tweet_processed = tweet.lower()\n",
      "    \n",
      "    for p in list(punctuation): # remove unwanted characters\n",
      "        tweet_processed=tweet_processed.replace(p,'')\n",
      "    words = tweet_processed.split(' ')\n",
      "        \n",
      "    for word in words:\n",
      "        if word in positive_words:\n",
      "            positive_counter = positive_counter+1\n",
      "        positive_counts.append(positive_counter/len(words))\n",
      "\n",
      "print (positive_counts[:10])"
     ],
     "language": "python",
     "metadata": {},
     "outputs": [
      {
       "output_type": "stream",
       "stream": "stdout",
       "text": [
        "[0.0, 0.0, 0.0, 0.0, 0.0, 0.0, 0.0, 0.0, 0.0625, 0.0625]\n"
       ]
      }
     ],
     "prompt_number": 74
    },
    {
     "cell_type": "heading",
     "level": 3,
     "metadata": {},
     "source": [
      "Store data in CSV:"
     ]
    },
    {
     "cell_type": "code",
     "collapsed": false,
     "input": [
      "import csv"
     ],
     "language": "python",
     "metadata": {},
     "outputs": [],
     "prompt_number": 75
    },
    {
     "cell_type": "markdown",
     "metadata": {},
     "source": [
      "Here as well, write in a file in a safer style:"
     ]
    },
    {
     "cell_type": "code",
     "collapsed": false,
     "input": [
      "output=zip(tweets_list, positive_counts)\n",
      "\n",
      "with open('Word_List/tweet_sentiment.csv', mode='w', newline='', encoding='utf-8') as a_file:\n",
      "    writer = csv.writer(a_file, delimiter=',') # by using comma as delimiter, we can put tweet and counts in separate cells\n",
      "    writer.writerows(output)"
     ],
     "language": "python",
     "metadata": {},
     "outputs": [],
     "prompt_number": 77
    }
   ],
   "metadata": {}
  }
 ]
}