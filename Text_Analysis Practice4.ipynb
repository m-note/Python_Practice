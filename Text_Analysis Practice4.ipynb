{
 "metadata": {
  "name": "",
  "signature": "sha256:a35482f2b8ec8da20851eb0df5ea4be756a607816099f9133b89770605a25e56"
 },
 "nbformat": 3,
 "nbformat_minor": 0,
 "worksheets": [
  {
   "cells": [
    {
     "cell_type": "heading",
     "level": 2,
     "metadata": {},
     "source": [
      "Test whether MeCab is installed:"
     ]
    },
    {
     "cell_type": "code",
     "collapsed": false,
     "input": [
      "import MeCab"
     ],
     "language": "python",
     "metadata": {},
     "outputs": [],
     "prompt_number": 16
    },
    {
     "cell_type": "code",
     "collapsed": false,
     "input": [
      "sample_u = \"\u773c\u304c\u3001\u3068\u3063\u3066\u3082\u3044\u3044\u3002\u9752\u304f\u9752\u304f\u3001\u6f84\u3093\u3067\u3044\u308b\u3002\u7f8e\u3057\u3044\u5915\u7a7a\u3092\u3001\u306a\u304c\u3044\u3053\u3068\u898b\u3064\u3081\u305f\u304b\u3089\u3001\u3053\u3093\u306a\u306b\u3044\u3044\u76ee\u306b\u306a\u3063\u305f\u306e\u304b\u3057\u3089\u3002\u3057\u3081\u305f\u3082\u306e\u3060\u3002\""
     ],
     "language": "python",
     "metadata": {},
     "outputs": [],
     "prompt_number": 17
    },
    {
     "cell_type": "code",
     "collapsed": false,
     "input": [
      "mecab = MeCab.Tagger (\"-Ochasen\".join(sys.argv))\n",
      "print(mecab.parse(sample_u))"
     ],
     "language": "python",
     "metadata": {},
     "outputs": [
      {
       "output_type": "stream",
       "stream": "stdout",
       "text": [
        "\u773c\t\u540d\u8a5e,\u4e00\u822c,*,*,*,*,\u773c,\u30e1,\u30e1\n",
        "\u304c\t\u52a9\u8a5e,\u683c\u52a9\u8a5e,\u4e00\u822c,*,*,*,\u304c,\u30ac,\u30ac\n",
        "\u3001\t\u8a18\u53f7,\u8aad\u70b9,*,*,*,*,\u3001,\u3001,\u3001\n",
        "\u3068\u3063\u3066\u3082\t\u526f\u8a5e,\u4e00\u822c,*,*,*,*,\u3068\u3063\u3066\u3082,\u30c8\u30c3\u30c6\u30e2,\u30c8\u30c3\u30c6\u30e2\n",
        "\u3044\u3044\t\u5f62\u5bb9\u8a5e,\u81ea\u7acb,*,*,\u5f62\u5bb9\u8a5e\u30fb\u30a4\u30a4,\u57fa\u672c\u5f62,\u3044\u3044,\u30a4\u30a4,\u30a4\u30a4\n",
        "\u3002\t\u8a18\u53f7,\u53e5\u70b9,*,*,*,*,\u3002,\u3002,\u3002\n",
        "\u9752\u304f\t\u5f62\u5bb9\u8a5e,\u81ea\u7acb,*,*,\u5f62\u5bb9\u8a5e\u30fb\u30a2\u30a6\u30aa\u6bb5,\u9023\u7528\u30c6\u63a5\u7d9a,\u9752\u3044,\u30a2\u30aa\u30af,\u30a2\u30aa\u30af\n",
        "\u9752\u304f\t\u5f62\u5bb9\u8a5e,\u81ea\u7acb,*,*,\u5f62\u5bb9\u8a5e\u30fb\u30a2\u30a6\u30aa\u6bb5,\u9023\u7528\u30c6\u63a5\u7d9a,\u9752\u3044,\u30a2\u30aa\u30af,\u30a2\u30aa\u30af\n",
        "\u3001\t\u8a18\u53f7,\u8aad\u70b9,*,*,*,*,\u3001,\u3001,\u3001\n",
        "\u6f84\u3093\t\u52d5\u8a5e,\u81ea\u7acb,*,*,\u4e94\u6bb5\u30fb\u30de\u884c,\u9023\u7528\u30bf\u63a5\u7d9a,\u6f84\u3080,\u30b9\u30f3,\u30b9\u30f3\n",
        "\u3067\t\u52a9\u8a5e,\u63a5\u7d9a\u52a9\u8a5e,*,*,*,*,\u3067,\u30c7,\u30c7\n",
        "\u3044\u308b\t\u52d5\u8a5e,\u975e\u81ea\u7acb,*,*,\u4e00\u6bb5,\u57fa\u672c\u5f62,\u3044\u308b,\u30a4\u30eb,\u30a4\u30eb\n",
        "\u3002\t\u8a18\u53f7,\u53e5\u70b9,*,*,*,*,\u3002,\u3002,\u3002\n",
        "\u7f8e\u3057\u3044\t\u5f62\u5bb9\u8a5e,\u81ea\u7acb,*,*,\u5f62\u5bb9\u8a5e\u30fb\u30a4\u6bb5,\u57fa\u672c\u5f62,\u7f8e\u3057\u3044,\u30a6\u30c4\u30af\u30b7\u30a4,\u30a6\u30c4\u30af\u30b7\u30a4\n",
        "\u5915\u7a7a\t\u540d\u8a5e,\u4e00\u822c,*,*,*,*,\u5915\u7a7a,\u30e6\u30a6\u30be\u30e9,\u30e6\u30fc\u30be\u30e9\n",
        "\u3092\t\u52a9\u8a5e,\u683c\u52a9\u8a5e,\u4e00\u822c,*,*,*,\u3092,\u30f2,\u30f2\n",
        "\u3001\t\u8a18\u53f7,\u8aad\u70b9,*,*,*,*,\u3001,\u3001,\u3001\n",
        "\u306a\u304c\u3044\t\u5f62\u5bb9\u8a5e,\u81ea\u7acb,*,*,\u5f62\u5bb9\u8a5e\u30fb\u30a2\u30a6\u30aa\u6bb5,\u57fa\u672c\u5f62,\u306a\u304c\u3044,\u30ca\u30ac\u30a4,\u30ca\u30ac\u30a4\n",
        "\u3053\u3068\t\u540d\u8a5e,\u975e\u81ea\u7acb,\u4e00\u822c,*,*,*,\u3053\u3068,\u30b3\u30c8,\u30b3\u30c8\n",
        "\u898b\u3064\u3081\t\u52d5\u8a5e,\u81ea\u7acb,*,*,\u4e00\u6bb5,\u9023\u7528\u5f62,\u898b\u3064\u3081\u308b,\u30df\u30c4\u30e1,\u30df\u30c4\u30e1\n",
        "\u305f\t\u52a9\u52d5\u8a5e,*,*,*,\u7279\u6b8a\u30fb\u30bf,\u57fa\u672c\u5f62,\u305f,\u30bf,\u30bf\n",
        "\u304b\u3089\t\u52a9\u8a5e,\u63a5\u7d9a\u52a9\u8a5e,*,*,*,*,\u304b\u3089,\u30ab\u30e9,\u30ab\u30e9\n",
        "\u3001\t\u8a18\u53f7,\u8aad\u70b9,*,*,*,*,\u3001,\u3001,\u3001\n",
        "\u3053\u3093\u306a\u306b\t\u526f\u8a5e,\u52a9\u8a5e\u985e\u63a5\u7d9a,*,*,*,*,\u3053\u3093\u306a\u306b,\u30b3\u30f3\u30ca\u30cb,\u30b3\u30f3\u30ca\u30cb\n",
        "\u3044\u3044\t\u52d5\u8a5e,\u81ea\u7acb,*,*,\u4e94\u6bb5\u30fb\u30ef\u884c\u4fc3\u97f3\u4fbf,\u9023\u7528\u5f62,\u3044\u3046,\u30a4\u30a4,\u30a4\u30a4\n",
        "\u76ee\t\u540d\u8a5e,\u63a5\u5c3e,\u4e00\u822c,*,*,*,\u76ee,\u30e1,\u30e1\n",
        "\u306b\t\u52a9\u8a5e,\u683c\u52a9\u8a5e,\u4e00\u822c,*,*,*,\u306b,\u30cb,\u30cb\n",
        "\u306a\u3063\t\u52d5\u8a5e,\u81ea\u7acb,*,*,\u4e94\u6bb5\u30fb\u30e9\u884c,\u9023\u7528\u30bf\u63a5\u7d9a,\u306a\u308b,\u30ca\u30c3,\u30ca\u30c3\n",
        "\u305f\t\u52a9\u52d5\u8a5e,*,*,*,\u7279\u6b8a\u30fb\u30bf,\u57fa\u672c\u5f62,\u305f,\u30bf,\u30bf\n",
        "\u306e\t\u540d\u8a5e,\u975e\u81ea\u7acb,\u4e00\u822c,*,*,*,\u306e,\u30ce,\u30ce\n",
        "\u304b\u3057\u3089\t\u52a9\u8a5e,\u7d42\u52a9\u8a5e,*,*,*,*,\u304b\u3057\u3089,\u30ab\u30b7\u30e9,\u30ab\u30b7\u30e9\n",
        "\u3002\t\u8a18\u53f7,\u53e5\u70b9,*,*,*,*,\u3002,\u3002,\u3002\n",
        "\u3057\u3081\t\u52d5\u8a5e,\u81ea\u7acb,*,*,\u4e00\u6bb5,\u9023\u7528\u5f62,\u3057\u3081\u308b,\u30b7\u30e1,\u30b7\u30e1\n",
        "\u305f\t\u52a9\u52d5\u8a5e,*,*,*,\u7279\u6b8a\u30fb\u30bf,\u57fa\u672c\u5f62,\u305f,\u30bf,\u30bf\n",
        "\u3082\u306e\t\u540d\u8a5e,\u975e\u81ea\u7acb,\u4e00\u822c,*,*,*,\u3082\u306e,\u30e2\u30ce,\u30e2\u30ce\n",
        "\u3060\t\u52a9\u52d5\u8a5e,*,*,*,\u7279\u6b8a\u30fb\u30c0,\u57fa\u672c\u5f62,\u3060,\u30c0,\u30c0\n",
        "\u3002\t\u8a18\u53f7,\u53e5\u70b9,*,*,*,*,\u3002,\u3002,\u3002\n",
        "EOS\n",
        "\n"
       ]
      }
     ],
     "prompt_number": 18
    },
    {
     "cell_type": "heading",
     "level": 2,
     "metadata": {},
     "source": [
      "Sample Code:"
     ]
    },
    {
     "cell_type": "markdown",
     "metadata": {},
     "source": [
      "<a href=\"http://qiita.com/Salinger/items/529a77f2ceeb39998665\" target=\"_blank\">Original code</a> is modified for Python3."
     ]
    },
    {
     "cell_type": "code",
     "collapsed": false,
     "input": [
      "def main():\n",
      "    words_dict = parse(sample_u)\n",
      "    print (\"\u5168\u3066:\", \",\".join(words_dict['all']))\n",
      "    print (\"\u540d\u8a5e:\", \",\".join(words_dict['nouns']))\n",
      "    print (\"\u52d5\u8a5e:\", \",\".join(words_dict['verbs']))\n",
      "    print (\"\u5f62\u5bb9\u8a5e:\", \",\".join(words_dict['adjs']))\n",
      "    return"
     ],
     "language": "python",
     "metadata": {},
     "outputs": [],
     "prompt_number": 40
    },
    {
     "cell_type": "code",
     "collapsed": false,
     "input": [
      "def parse(unicode_string):\n",
      "    tagger = MeCab.Tagger('mecabrc')\n",
      "        # You can select which tagger you use. Here, I choose 'mecabrc' for practice.\n",
      "    #text = unicode_string.encode(utf-8)   # You don't need this line in Python3\n",
      "    node = tagger.parseToNode(unicode_string)\n",
      " \n",
      "    words = []\n",
      "    nouns = []\n",
      "    verbs = []\n",
      "    adjs = []\n",
      "    while node:\n",
      "        pos = node.feature.split(\",\")[0]\n",
      "        word = node.surface\n",
      "        \n",
      "        if pos == \"\u540d\u8a5e\":\n",
      "            nouns.append(word)\n",
      "        elif pos == \"\u52d5\u8a5e\":\n",
      "            verbs.append(word)\n",
      "        elif pos == \"\u5f62\u5bb9\u8a5e\":\n",
      "            adjs.append(word)\n",
      "        words.append(word)\n",
      "        node = node.next\n",
      "        \n",
      "    parsed_words_dict = {\n",
      "        \"all\": words[1:-1], # \u6700\u521d\u3068\u6700\u5f8c\u306b\u306f\u7a7a\u6587\u5b57\u5217\u304c\u5165\u308b\u306e\u3067\u9664\u53bb                                                                                                \n",
      "        \"nouns\": nouns,\n",
      "        \"verbs\": verbs,\n",
      "        \"adjs\": adjs\n",
      "        }\n",
      "    return parsed_words_dict"
     ],
     "language": "python",
     "metadata": {},
     "outputs": [],
     "prompt_number": 41
    },
    {
     "cell_type": "markdown",
     "metadata": {},
     "source": [
      "parse()\u306e\u4ee3\u308f\u308a\u306bparseToNode()\u3092\u4f7f\u3046\u3068\u5f62\u614b\u7d20\u306e\u8a73\u7d30\u60c5\u5831\u304c\u5f97\u3089\u308c\u307e\u3059\u3002<br>\n",
      "parseToNode()\u306f\u5148\u982d\u306e\u30ce\u30fc\u30c9\uff08\u5f62\u614b\u7d20\u60c5\u5831\uff09\u3092\u8fd4\u3057\u3001surface\u3067\u8868\u5c64\u5f62\u3001feature\u3067\u5f62\u614b\u7d20\u60c5\u5831\u3092\u53d6\u5f97\u3067\u304d\u307e\u3059\u3002\u4e21\u65b9\u3068\u3082\u6587\u5b57\u5217\u3067\u3059\u3002<br>\n",
      "feature\u306f , \u3067\u533a\u5207\u3089\u308c\u3066\u3044\u308b\u306e\u3067split()\u306a\u3069\u3067\u5206\u5272\u3057\u3066\u5fc5\u8981\u306a\u60c5\u5831\u3092\u62bd\u51fa\u3057\u307e\u3059\u3002"
     ]
    },
    {
     "cell_type": "code",
     "collapsed": false,
     "input": [
      "if __name__ == \"__main__\":\n",
      "    main()"
     ],
     "language": "python",
     "metadata": {},
     "outputs": [
      {
       "output_type": "stream",
       "stream": "stdout",
       "text": [
        "\u5168\u3066: \u773c,\u304c,\u3001,\u3068\u3063\u3066\u3082,\u3044\u3044,\u3002,\u9752\u304f,\u9752\u304f,\u3001,\u6f84\u3093,\u3067,\u3044\u308b,\u3002,\u7f8e\u3057\u3044,\u5915\u7a7a,\u3092,\u3001,\u306a\u304c\u3044,\u3053\u3068,\u898b\u3064\u3081,\u305f,\u304b\u3089,\u3001,\u3053\u3093\u306a\u306b,\u3044\u3044,\u76ee,\u306b,\u306a\u3063,\u305f,\u306e,\u304b\u3057\u3089,\u3002,\u3057\u3081,\u305f,\u3082\u306e,\u3060,\u3002\n",
        "\u540d\u8a5e: \u773c,\u5915\u7a7a,\u3053\u3068,\u76ee,\u306e,\u3082\u306e\n",
        "\u52d5\u8a5e: \u6f84\u3093,\u3044\u308b,\u898b\u3064\u3081,\u3044\u3044,\u306a\u3063,\u3057\u3081\n",
        "\u5f62\u5bb9\u8a5e: \u3044\u3044,\u9752\u304f,\u9752\u304f,\u7f8e\u3057\u3044,\u306a\u304c\u3044\n"
       ]
      }
     ],
     "prompt_number": 42
    },
    {
     "cell_type": "heading",
     "level": 2,
     "metadata": {},
     "source": [
      "Understand parseToNode() more:"
     ]
    },
    {
     "cell_type": "markdown",
     "metadata": {},
     "source": [
      "\uff1c\u518d\u63b2\uff1e<br>\n",
      "parse()\u306e\u4ee3\u308f\u308a\u306bparseToNode()\u3092\u4f7f\u3046\u3068\u5f62\u614b\u7d20\u306e\u8a73\u7d30\u60c5\u5831\u304c\u5f97\u3089\u308c\u307e\u3059\u3002<br>\n",
      "parseToNode()\u306f\u5148\u982d\u306e\u30ce\u30fc\u30c9\uff08\u5f62\u614b\u7d20\u60c5\u5831\uff09\u3092\u8fd4\u3057\u3001surface\u3067\u8868\u5c64\u5f62\u3001feature\u3067\u5f62\u614b\u7d20\u60c5\u5831\u3092\u53d6\u5f97\u3067\u304d\u307e\u3059\u3002\u4e21\u65b9\u3068\u3082\u6587\u5b57\u5217\u3067\u3059\u3002<br>\n",
      "feature\u306f , \u3067\u533a\u5207\u3089\u308c\u3066\u3044\u308b\u306e\u3067split()\u306a\u3069\u3067\u5206\u5272\u3057\u3066\u5fc5\u8981\u306a\u60c5\u5831\u3092\u62bd\u51fa\u3057\u307e\u3059\u3002"
     ]
    },
    {
     "cell_type": "code",
     "collapsed": false,
     "input": [
      "tagger = MeCab.Tagger('-Ochasen')\n",
      "text2 = '\u6c7a\u610f\u3092\u6301\u7d9a\u3055\u305b\u308b\u3053\u3068\u306e\u3067\u304d\u308b\u306e\u306f\u3001\u7fd2\u6163\u3068\u3044\u3046\u602a\u7269\u3067\u3042\u308b\u3002'\n",
      "nodes = tagger.parseToNode(text2)"
     ],
     "language": "python",
     "metadata": {},
     "outputs": [],
     "prompt_number": 35
    },
    {
     "cell_type": "code",
     "collapsed": false,
     "input": [
      "while nodes:\n",
      "    #print()\n",
      "    print(nodes.surface, \"\u3000\", nodes.feature)\n",
      "    nodes = nodes.next"
     ],
     "language": "python",
     "metadata": {},
     "outputs": [
      {
       "output_type": "stream",
       "stream": "stdout",
       "text": [
        " \u3000 BOS/EOS,*,*,*,*,*,*,*,*\n",
        "\u6c7a\u610f \u3000 \u540d\u8a5e,\u30b5\u5909\u63a5\u7d9a,*,*,*,*,\u6c7a\u610f,\u30b1\u30c4\u30a4,\u30b1\u30c4\u30a4\n",
        "\u3092 \u3000 \u52a9\u8a5e,\u683c\u52a9\u8a5e,\u4e00\u822c,*,*,*,\u3092,\u30f2,\u30f2\n",
        "\u6301\u7d9a \u3000 \u540d\u8a5e,\u30b5\u5909\u63a5\u7d9a,*,*,*,*,\u6301\u7d9a,\u30b8\u30be\u30af,\u30b8\u30be\u30af\n",
        "\u3055 \u3000 \u52d5\u8a5e,\u81ea\u7acb,*,*,\u30b5\u5909\u30fb\u30b9\u30eb,\u672a\u7136\u30ec\u30eb\u63a5\u7d9a,\u3059\u308b,\u30b5,\u30b5\n",
        "\u305b\u308b \u3000 \u52d5\u8a5e,\u63a5\u5c3e,*,*,\u4e00\u6bb5,\u57fa\u672c\u5f62,\u305b\u308b,\u30bb\u30eb,\u30bb\u30eb\n",
        "\u3053\u3068 \u3000 \u540d\u8a5e,\u975e\u81ea\u7acb,\u4e00\u822c,*,*,*,\u3053\u3068,\u30b3\u30c8,\u30b3\u30c8\n",
        "\u306e \u3000 \u52a9\u8a5e,\u683c\u52a9\u8a5e,\u4e00\u822c,*,*,*,\u306e,\u30ce,\u30ce\n",
        "\u3067\u304d\u308b \u3000 \u52d5\u8a5e,\u81ea\u7acb,*,*,\u4e00\u6bb5,\u57fa\u672c\u5f62,\u3067\u304d\u308b,\u30c7\u30ad\u30eb,\u30c7\u30ad\u30eb\n",
        "\u306e \u3000 \u540d\u8a5e,\u975e\u81ea\u7acb,\u4e00\u822c,*,*,*,\u306e,\u30ce,\u30ce\n",
        "\u306f \u3000 \u52a9\u8a5e,\u4fc2\u52a9\u8a5e,*,*,*,*,\u306f,\u30cf,\u30ef\n",
        "\u3001 \u3000 \u8a18\u53f7,\u8aad\u70b9,*,*,*,*,\u3001,\u3001,\u3001\n",
        "\u7fd2\u6163 \u3000 \u540d\u8a5e,\u4e00\u822c,*,*,*,*,\u7fd2\u6163,\u30b7\u30e5\u30a6\u30ab\u30f3,\u30b7\u30e5\u30fc\u30ab\u30f3\n",
        "\u3068\u3044\u3046 \u3000 \u52a9\u8a5e,\u683c\u52a9\u8a5e,\u9023\u8a9e,*,*,*,\u3068\u3044\u3046,\u30c8\u30a4\u30a6,\u30c8\u30e6\u30a6\n",
        "\u602a\u7269 \u3000 \u540d\u8a5e,\u4e00\u822c,*,*,*,*,\u602a\u7269,\u30ab\u30a4\u30d6\u30c4,\u30ab\u30a4\u30d6\u30c4\n",
        "\u3067 \u3000 \u52a9\u52d5\u8a5e,*,*,*,\u7279\u6b8a\u30fb\u30c0,\u9023\u7528\u5f62,\u3060,\u30c7,\u30c7\n",
        "\u3042\u308b \u3000 \u52a9\u52d5\u8a5e,*,*,*,\u4e94\u6bb5\u30fb\u30e9\u884c\u30a2\u30eb,\u57fa\u672c\u5f62,\u3042\u308b,\u30a2\u30eb,\u30a2\u30eb\n",
        "\u3002 \u3000 \u8a18\u53f7,\u53e5\u70b9,*,*,*,*,\u3002,\u3002,\u3002\n",
        " \u3000 BOS/EOS,*,*,*,*,*,*,*,*\n"
       ]
      }
     ],
     "prompt_number": 36
    },
    {
     "cell_type": "markdown",
     "metadata": {},
     "source": [
      "\u30fbMeCab\u306b\u6e21\u3059\u6587\u5b57\u5217\u306fencode\uff0c\u623b\u3063\u3066\u304d\u305f\u6587\u5b57\u5217\u306fdecode\u3059\u308b (for Python2.x?) <br>\n",
      "\u30fbMeCab\u306b\u6e21\u3057\u305f\u6587\u5b57\u5217\u306f\u5fc5\u305a\u5909\u6570\u306b\u5165\u308c\u3066\u304a\u304f<br>"
     ]
    },
    {
     "cell_type": "markdown",
     "metadata": {},
     "source": [
      "node.surface\u306e\u554f\u984c\u306f<a href=\"http://qiita.com/namoshika/items/37e1351f7ffefd505eec\" target=\"_blank\">\u3053\u3061\u3089</a>\u3068<a href=\"http://ma13.hateblo.jp/entry/2014/06/26/000000\" target=\"_blank\">\u3053\u3061\u3089</a>\u306b\u307e\u3068\u3081\u3066\u3042\u3063\u305f\u3002 "
     ]
    }
   ],
   "metadata": {}
  }
 ]
}